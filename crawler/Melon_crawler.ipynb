{
 "cells": [
  {
   "cell_type": "markdown",
   "metadata": {
    "id": "x8iUTh-kccKv"
   },
   "source": [
    "# **멜론 인기 차트 크롤링하기 (BeautifulSoup/Selenium)**\n",
    "마지막 수정일 : 2021년 4월 16일"
   ]
  },
  {
   "cell_type": "markdown",
   "metadata": {
    "id": "JuLnj-t8D3mc"
   },
   "source": [
    "## **1. BeautifulSoup을 이용한 크롤링**"
   ]
  },
  {
   "cell_type": "markdown",
   "metadata": {
    "id": "1c8FbEjqHnET"
   },
   "source": [
    "- BeautifulSoup은 파이썬 웹 크롤링에 가장 널리 사용되는 라이브러리로, HTML 문서를 탐색해서 원하는 데이터를 쉽게 추출해 낼 수 있다.\n",
    "\n",
    "- Beautifulsoup을 사용해 크롤링을 하는 경우, 서버에서 봇으로 인지하고 차단하는 경우가 발생할 수 있다. 이를 방지하기 위해 headers를 입력해준다. headers 정보에는 {'User-Agent' : '유저정보'} 를 넣어줘야 하는데, 이 '유저정보'는 아래의 사이트에서 얻을 수 있다.  \n",
    " http://www.useragentstring.com/ \n",
    " \n",
    "- HTML에서 필요한 데이터를 가져오기 위해 다양한 메소드를 사용할 수 있다. 가장 기본적인 메소드는 아래와 같고, 자세한 내용은 [BeautifulSoup Documentation](https://www.crummy.com/software/BeautifulSoup/bs4/doc/)에서 확인할 수 있다. \n",
    "\n",
    "      *   find()\n",
    "      *   find_all()\n",
    "      *   select_one()\n",
    "      *   select()\n",
    "      *   get_text()"
   ]
  },
  {
   "cell_type": "markdown",
   "metadata": {
    "id": "yiWSkbQJHo_d"
   },
   "source": [
    "### **1-1. 필요한 라이브러리 불러오기**"
   ]
  },
  {
   "cell_type": "code",
   "execution_count": 1,
   "metadata": {
    "id": "HXHh4KWwHzFl"
   },
   "outputs": [],
   "source": [
    "from bs4 import BeautifulSoup\n",
    "import requests\n",
    "import pandas as pd"
   ]
  },
  {
   "cell_type": "markdown",
   "metadata": {
    "id": "HybnTcl6H3fP"
   },
   "source": [
    "### **1-2. 헤더 설정 및 웹 페이지 요청하기**"
   ]
  },
  {
   "cell_type": "code",
   "execution_count": 2,
   "metadata": {
    "id": "qsbEui94H57r"
   },
   "outputs": [],
   "source": [
    "hdr = {'user-agent': ('Mozilla/5.0 (Windows NT 10.0; Win64; x64)' \n",
    "                      'AppleWebKit/537.36 (KHTML, like Gecko) Chrome/70.0.3538.77 Safari/537.36')}\n",
    "\n",
    "response = requests.get('https://www.melon.com/chart/index.htm', headers = hdr) \n",
    "html = response.text\n",
    "bs = BeautifulSoup(html, 'html.parser')"
   ]
  },
  {
   "cell_type": "markdown",
   "metadata": {
    "id": "CPLI8SUiH_Zt"
   },
   "source": [
    "### **1-3. 데이터 가져오기**"
   ]
  },
  {
   "cell_type": "code",
   "execution_count": 3,
   "metadata": {
    "id": "Y48Seh86IIgS"
   },
   "outputs": [],
   "source": [
    "TITLE = [] # 노래 제목\n",
    "title = bs.find_all('div', {'class':'ellipsis rank01'})\n",
    "for i in title:\n",
    "    TITLE.append(i.find('a').get_text())\n",
    "\n",
    "ARTIST = [] # 아티스트명\n",
    "artist = bs.find_all('div', {'class':'ellipsis rank02'})\n",
    "for i in artist:\n",
    "    ARTIST.append(i.find('a').get_text())\n",
    "\n",
    "NUM = [] # 노래 고유넘버\n",
    "for i in range(1,101):\n",
    "    number = bs.select_one('#frm > div > table > tbody > tr:nth-child({})'.format(i)).attrs['data-song-no']\n",
    "    NUM.append(number)\n",
    "    \n",
    "    \n",
    "LYRIC = [] # 노래 가사\n",
    "for i in NUM:\n",
    "    response_2 = requests.get('https://www.melon.com/song/detail.htm?songId=' + str(i), headers = hdr)\n",
    "    html_2 = response_2.text \n",
    "    bs_2 = BeautifulSoup(html_2, 'html.parser')\n",
    "    lyric = bs_2.find_all('div', {'class':'lyric'})\n",
    "    \n",
    "    for i in lyric:\n",
    "        LYRIC.append(i.get_text().strip())\n",
    "\n",
    "rank = list(range(1,101)) #순위   "
   ]
  },
  {
   "cell_type": "markdown",
   "metadata": {
    "id": "SVw1gTY9IQJn"
   },
   "source": [
    "### **1-4. 파일로 저장하기**"
   ]
  },
  {
   "cell_type": "code",
   "execution_count": 4,
   "metadata": {
    "id": "U1JPiPHiIN-m"
   },
   "outputs": [],
   "source": [
    "df = pd.DataFrame({'Rank':rank, 'Title':TITLE, 'Artist':ARTIST, 'Lyric':LYRIC})\n",
    "df.set_index('Rank', inplace=True) # 인덱스를 '순위'로 지정\n",
    "df.to_excel(\"melon_chart100.xlsx\",  encoding='utf-8')"
   ]
  },
  {
   "cell_type": "code",
   "execution_count": 5,
   "metadata": {},
   "outputs": [
    {
     "data": {
      "text/html": [
       "<div>\n",
       "<style scoped>\n",
       "    .dataframe tbody tr th:only-of-type {\n",
       "        vertical-align: middle;\n",
       "    }\n",
       "\n",
       "    .dataframe tbody tr th {\n",
       "        vertical-align: top;\n",
       "    }\n",
       "\n",
       "    .dataframe thead th {\n",
       "        text-align: right;\n",
       "    }\n",
       "</style>\n",
       "<table border=\"1\" class=\"dataframe\">\n",
       "  <thead>\n",
       "    <tr style=\"text-align: right;\">\n",
       "      <th></th>\n",
       "      <th>Title</th>\n",
       "      <th>Artist</th>\n",
       "      <th>Lyric</th>\n",
       "    </tr>\n",
       "    <tr>\n",
       "      <th>Rank</th>\n",
       "      <th></th>\n",
       "      <th></th>\n",
       "      <th></th>\n",
       "    </tr>\n",
       "  </thead>\n",
       "  <tbody>\n",
       "    <tr>\n",
       "      <th>1</th>\n",
       "      <td>라일락</td>\n",
       "      <td>아이유</td>\n",
       "      <td>나리는 꽃가루에 눈이 따끔해 (아야)눈물이 고여도 꾹 참을래내 마음 한켠 비밀스런 ...</td>\n",
       "    </tr>\n",
       "    <tr>\n",
       "      <th>2</th>\n",
       "      <td>롤린 (Rollin')</td>\n",
       "      <td>브레이브걸스</td>\n",
       "      <td>그 날을 잊지 못해 babe날 보며 환히 웃던 너의 미소에홀린 듯 I'm fall ...</td>\n",
       "    </tr>\n",
       "    <tr>\n",
       "      <th>3</th>\n",
       "      <td>Celebrity</td>\n",
       "      <td>아이유</td>\n",
       "      <td>세상의 모서리구부정하게 커버린골칫거리 outsider걸음걸이, 옷차림, 이어폰 너머...</td>\n",
       "    </tr>\n",
       "    <tr>\n",
       "      <th>4</th>\n",
       "      <td>Peaches (Feat. Daniel Caesar &amp; Giveon)</td>\n",
       "      <td>Justin Bieber</td>\n",
       "      <td>I got my peaches out in GeorgiaOh yeah shitI g...</td>\n",
       "    </tr>\n",
       "    <tr>\n",
       "      <th>5</th>\n",
       "      <td>운전만해 (We Ride)</td>\n",
       "      <td>브레이브걸스</td>\n",
       "      <td>넌 운전만 해계속 운전만 해왜 이리 된 걸까 우리 사이가갑자기 어색해졌단 걸왜 달라...</td>\n",
       "    </tr>\n",
       "  </tbody>\n",
       "</table>\n",
       "</div>"
      ],
      "text/plain": [
       "                                       Title         Artist  \\\n",
       "Rank                                                          \n",
       "1                                        라일락            아이유   \n",
       "2                               롤린 (Rollin')         브레이브걸스   \n",
       "3                                  Celebrity            아이유   \n",
       "4     Peaches (Feat. Daniel Caesar & Giveon)  Justin Bieber   \n",
       "5                             운전만해 (We Ride)         브레이브걸스   \n",
       "\n",
       "                                                  Lyric  \n",
       "Rank                                                     \n",
       "1     나리는 꽃가루에 눈이 따끔해 (아야)눈물이 고여도 꾹 참을래내 마음 한켠 비밀스런 ...  \n",
       "2     그 날을 잊지 못해 babe날 보며 환히 웃던 너의 미소에홀린 듯 I'm fall ...  \n",
       "3     세상의 모서리구부정하게 커버린골칫거리 outsider걸음걸이, 옷차림, 이어폰 너머...  \n",
       "4     I got my peaches out in GeorgiaOh yeah shitI g...  \n",
       "5     넌 운전만 해계속 운전만 해왜 이리 된 걸까 우리 사이가갑자기 어색해졌단 걸왜 달라...  "
      ]
     },
     "execution_count": 5,
     "metadata": {},
     "output_type": "execute_result"
    }
   ],
   "source": [
    "df.head()"
   ]
  },
  {
   "cell_type": "markdown",
   "metadata": {
    "id": "lSPTOq0NkAcu"
   },
   "source": [
    "## **2. Selenium을 이용한 크롤링**"
   ]
  },
  {
   "cell_type": "markdown",
   "metadata": {
    "id": "6vZp2F_pe26r"
   },
   "source": [
    "- 셀레니움(Selenium)은 웹드라이버의 API를 통해 브라우저를 제어하기 때문에, 자바스크립트에 의해 동적으로 생성되는 웹페이지의 데이터를 크롤링 할 때 매우 유용하게 사용되는 크롤링 도구이다.\n",
    "\n",
    "- 셀레니움을 사용할 때 가장 보편적인 Chrome driver를 사용한다. 다음 링크에서 다운받을 수 있다.\n",
    "https://chromedriver.chromium.org/downloads\n",
    "\n",
    "- 셀레니움은 웹드라이버의 DOM에서 요소를 찾을 때 다양한 선택자들 중 골라서 사용하면 된다. 아래와 같이 find_element로 시작하는 함수는 조건에 맞는 요소를 하나만 반환한다. 조건을 만족하는 모든 요소를 반환받고 싶은 경우엔 find_elements로 시작하면 된다.\n",
    "\n",
    "      *   find_element()\n",
    "      *   find_element_by_css_selector()\n",
    "      *   find_element_by_xpath()\n",
    "      *   find_element_by_class_name()\n",
    "      *   find_element_by_tag_name()\n",
    "      *   find_element_by_name()\n",
    "      *   find_element_by_id()\n",
    "      *   find_element_by_link_text()\n",
    "      *   find_element_by_partial_link_text()\n",
    "\n"
   ]
  },
  {
   "cell_type": "markdown",
   "metadata": {
    "id": "YlxPo3x4cy2U"
   },
   "source": [
    "### **2-1. 필요한 라이브러리 불러오기**"
   ]
  },
  {
   "cell_type": "code",
   "execution_count": 6,
   "metadata": {
    "id": "ygMdKCdycW5h"
   },
   "outputs": [],
   "source": [
    "from selenium import webdriver\n",
    "import pandas as pd"
   ]
  },
  {
   "cell_type": "markdown",
   "metadata": {
    "id": "EPVFK9L-FL_r"
   },
   "source": [
    "### **2-2. 웹 브라우저 실행하고 원하는 데이터 가져오기**"
   ]
  },
  {
   "cell_type": "code",
   "execution_count": 8,
   "metadata": {
    "id": "k-WSQ9h8FOPa"
   },
   "outputs": [
    {
     "name": "stderr",
     "output_type": "stream",
     "text": [
      "/Users/jinsol/opt/anaconda3/lib/python3.7/site-packages/ipykernel_launcher.py:4: DeprecationWarning: use options instead of chrome_options\n",
      "  after removing the cwd from sys.path.\n"
     ]
    }
   ],
   "source": [
    "# 웹 브라우저 실행하기 \n",
    "chrome_options = webdriver.ChromeOptions() \n",
    "chrome_options.add_argument('headless')\n",
    "driver = webdriver.Chrome(executable_path=\"/Users/jinsol/Desktop/chromedriver\",chrome_options=chrome_options) #webdriver 객체 생성\n",
    "driver.get(\"https://www.melon.com/chart/index.htm\")\n",
    "\n",
    "\n",
    "# 원하는 데이터 가져오기\n",
    "TITLE = [] # 노래 제목\n",
    "title = driver.find_elements_by_class_name('ellipsis.rank01') \n",
    "for i in title:\n",
    "    TITLE.append(i.text)\n",
    "\n",
    "ARTIST = [] # 아티스트명\n",
    "artist = driver.find_elements_by_class_name('ellipsis.rank02') \n",
    "for i in artist:\n",
    "    ARTIST.append(i.text)\n",
    "    \n",
    "NUM = [] # 노래 고유넘버\n",
    "for i in range(1,101):\n",
    "    number = driver.find_element_by_css_selector('#frm > div > table > tbody > tr:nth-child({})'.format(i)).get_attribute('data-song-no')\n",
    "    NUM.append(number)  \n",
    "\n",
    "LYRIC=[] # 노래 가사\n",
    "for i in NUM:\n",
    "    driver.get(\"https://www.melon.com/song/detail.htm?songId=\" + i)\n",
    "    lyric = driver.find_element_by_class_name(\"lyric\")\n",
    "    LYRIC.append(lyric.text)\n",
    "\n",
    "    \n",
    "rank = list(range(1,101)) #순위   "
   ]
  },
  {
   "cell_type": "markdown",
   "metadata": {
    "id": "UBG58-dfiRvD"
   },
   "source": [
    "### **2-3. 파일로 저장하기**"
   ]
  },
  {
   "cell_type": "code",
   "execution_count": 9,
   "metadata": {
    "id": "M0QIhbg7chNn"
   },
   "outputs": [],
   "source": [
    "df = pd.DataFrame({\"Rank\": rank, \"Title\":TITLE, \"Artist\":ARTIST, \"Lyric\":LYRIC})\n",
    "df.set_index('Rank', inplace=True) # 인덱스를 '순위'로 지정\n",
    "df.to_excel(\"melon_chart100.xlsx\",  encoding='utf-8')"
   ]
  },
  {
   "cell_type": "code",
   "execution_count": 10,
   "metadata": {},
   "outputs": [
    {
     "data": {
      "text/html": [
       "<div>\n",
       "<style scoped>\n",
       "    .dataframe tbody tr th:only-of-type {\n",
       "        vertical-align: middle;\n",
       "    }\n",
       "\n",
       "    .dataframe tbody tr th {\n",
       "        vertical-align: top;\n",
       "    }\n",
       "\n",
       "    .dataframe thead th {\n",
       "        text-align: right;\n",
       "    }\n",
       "</style>\n",
       "<table border=\"1\" class=\"dataframe\">\n",
       "  <thead>\n",
       "    <tr style=\"text-align: right;\">\n",
       "      <th></th>\n",
       "      <th>Title</th>\n",
       "      <th>Artist</th>\n",
       "      <th>Lyric</th>\n",
       "    </tr>\n",
       "    <tr>\n",
       "      <th>Rank</th>\n",
       "      <th></th>\n",
       "      <th></th>\n",
       "      <th></th>\n",
       "    </tr>\n",
       "  </thead>\n",
       "  <tbody>\n",
       "    <tr>\n",
       "      <th>1</th>\n",
       "      <td>라일락</td>\n",
       "      <td>아이유</td>\n",
       "      <td>나리는 꽃가루에 눈이 따끔해 (아야)\\n눈물이 고여도 꾹 참을래\\n내 마음 한켠 비...</td>\n",
       "    </tr>\n",
       "    <tr>\n",
       "      <th>2</th>\n",
       "      <td>롤린 (Rollin')</td>\n",
       "      <td>브레이브걸스</td>\n",
       "      <td>그 날을 잊지 못해 babe\\n날 보며 환히 웃던\\n너의 미소에\\n홀린 듯\\nI'm...</td>\n",
       "    </tr>\n",
       "    <tr>\n",
       "      <th>3</th>\n",
       "      <td>Celebrity</td>\n",
       "      <td>아이유</td>\n",
       "      <td>세상의 모서리\\n구부정하게 커버린\\n골칫거리 outsider\\n\\n걸음걸이, 옷차림...</td>\n",
       "    </tr>\n",
       "    <tr>\n",
       "      <th>4</th>\n",
       "      <td>Peaches (Feat. Daniel Caesar &amp; Giveon)</td>\n",
       "      <td>Justin Bieber</td>\n",
       "      <td>I got my peaches out in Georgia\\nOh yeah shit\\...</td>\n",
       "    </tr>\n",
       "    <tr>\n",
       "      <th>5</th>\n",
       "      <td>운전만해 (We Ride)</td>\n",
       "      <td>브레이브걸스</td>\n",
       "      <td>넌 운전만 해\\n계속 운전만 해\\n왜 이리 된 걸까 우리 사이가\\n갑자기 어색해졌단...</td>\n",
       "    </tr>\n",
       "  </tbody>\n",
       "</table>\n",
       "</div>"
      ],
      "text/plain": [
       "                                       Title         Artist  \\\n",
       "Rank                                                          \n",
       "1                                        라일락            아이유   \n",
       "2                               롤린 (Rollin')         브레이브걸스   \n",
       "3                                  Celebrity            아이유   \n",
       "4     Peaches (Feat. Daniel Caesar & Giveon)  Justin Bieber   \n",
       "5                             운전만해 (We Ride)         브레이브걸스   \n",
       "\n",
       "                                                  Lyric  \n",
       "Rank                                                     \n",
       "1     나리는 꽃가루에 눈이 따끔해 (아야)\\n눈물이 고여도 꾹 참을래\\n내 마음 한켠 비...  \n",
       "2     그 날을 잊지 못해 babe\\n날 보며 환히 웃던\\n너의 미소에\\n홀린 듯\\nI'm...  \n",
       "3     세상의 모서리\\n구부정하게 커버린\\n골칫거리 outsider\\n\\n걸음걸이, 옷차림...  \n",
       "4     I got my peaches out in Georgia\\nOh yeah shit\\...  \n",
       "5     넌 운전만 해\\n계속 운전만 해\\n왜 이리 된 걸까 우리 사이가\\n갑자기 어색해졌단...  "
      ]
     },
     "execution_count": 10,
     "metadata": {},
     "output_type": "execute_result"
    }
   ],
   "source": [
    "df.head()"
   ]
  }
 ],
 "metadata": {
  "colab": {
   "collapsed_sections": [],
   "name": "Melon_crawler.ipynb",
   "provenance": [],
   "toc_visible": true
  },
  "kernelspec": {
   "display_name": "Python 3",
   "language": "python",
   "name": "python3"
  },
  "language_info": {
   "codemirror_mode": {
    "name": "ipython",
    "version": 3
   },
   "file_extension": ".py",
   "mimetype": "text/x-python",
   "name": "python",
   "nbconvert_exporter": "python",
   "pygments_lexer": "ipython3",
   "version": "3.7.9"
  }
 },
 "nbformat": 4,
 "nbformat_minor": 1
}
