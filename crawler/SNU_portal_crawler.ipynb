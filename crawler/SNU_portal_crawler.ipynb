{
 "cells": [
  {
   "cell_type": "markdown",
   "metadata": {
    "id": "x8iUTh-kccKv"
   },
   "source": [
    "# **Selenium으로 SNU포털 수강편람 크롤링하기**\n",
    "마지막 수정일 : 2021년 4월 8일"
   ]
  },
  {
   "cell_type": "markdown",
   "metadata": {
    "id": "lSPTOq0NkAcu"
   },
   "source": [
    "## **❐ Selenium 소개**"
   ]
  },
  {
   "cell_type": "markdown",
   "metadata": {
    "id": "6vZp2F_pe26r"
   },
   "source": [
    "셀레니움(Selenium)은 웹드라이버의 API를 통해 브라우저를 제어하기 때문에, 자바스크립트에 의해 동적으로 생성되는 웹페이지의 데이터를 크롤링 할 때 매우 유용하게 사용되는 크롤링 도구이다.\n",
    "\n",
    "셀레니움을 사용할 때 가장 보편적인 Chrome driver를 사용한다. 아래의 링크에서 다운받을 수 있다.\n",
    "https://chromedriver.chromium.org/downloads"
   ]
  },
  {
   "cell_type": "markdown",
   "metadata": {
    "id": "FhPdO7fSkXwD"
   },
   "source": [
    "셀레니움은 웹드라이버의 DOM에서 요소를 찾을 때 다양한 선택자들 중 골라서 사용하면 된다. 아래와 같이 find_element로 시작하는 함수는 조건에 맞는 요소를 하나만 반환한다. 조건을 만족하는 모든 요소를 반환받고 싶은 경우엔 find_elements로 시작하면 된다.\n",
    "\n",
    "*   find_element()\n",
    "*   find_element_by_css_selector()\n",
    "*   find_element_by_xpath()\n",
    "*   find_element_by_class_name()\n",
    "*   find_element_by_tag_name()\n",
    "*   find_element_by_name()\n",
    "*   find_element_by_id()\n",
    "*   find_element_by_link_text()\n",
    "*   find_element_by_partial_link_text()\n",
    "\n"
   ]
  },
  {
   "cell_type": "markdown",
   "metadata": {
    "id": "YlxPo3x4cy2U"
   },
   "source": [
    "## **❐ 필요한 라이브러리 불러오기**"
   ]
  },
  {
   "cell_type": "code",
   "execution_count": null,
   "metadata": {
    "id": "ygMdKCdycW5h"
   },
   "outputs": [],
   "source": [
    "import selenium\n",
    "from selenium import webdriver\n",
    "from selenium.webdriver.remote.webelement import WebElement\n",
    "from selenium.webdriver.support.ui import WebDriverWait\n",
    "from selenium.webdriver.common.keys import Keys\n",
    "from selenium.webdriver.support.ui import Select\n",
    "import time\n",
    "import pandas as pd\n",
    "import csv\n",
    "import getpass"
   ]
  },
  {
   "cell_type": "markdown",
   "metadata": {
    "id": "im0fkZ0RcdgI"
   },
   "source": [
    "## **❐ 함수 정의하기**"
   ]
  },
  {
   "cell_type": "markdown",
   "metadata": {
    "id": "rESb49oQhvcF"
   },
   "source": [
    " - 로그인 처리 함수"
   ]
  },
  {
   "cell_type": "code",
   "execution_count": null,
   "metadata": {
    "id": "PPC3dVeXcdoN"
   },
   "outputs": [],
   "source": [
    "def fn_loginPage(driver, id_, pw_):\n",
    "\n",
    "    driver.find_element_by_name('userId').send_keys(id_)\n",
    "    driver.find_element_by_name('password').send_keys(pw_)\n",
    "    driver.find_element_by_css_selector('#LoginForm > div > fieldset > a.btn_login').click()"
   ]
  },
  {
   "cell_type": "markdown",
   "metadata": {
    "id": "00dfxrKUhyFz"
   },
   "source": [
    " - 수강편람 검색 함수 (콤보박스 처리)"
   ]
  },
  {
   "cell_type": "code",
   "execution_count": null,
   "metadata": {
    "id": "2uAuylNyhiEG"
   },
   "outputs": [],
   "source": [
    "def fn_search(driver):\n",
    "    \n",
    "    Grades = Select(driver.find_element_by_id('srchCptnCorsFg')) #학년 콤보박스\n",
    "    #Grades.select_by_value('C013300002') #석사 선택\n",
    "    \n",
    "    Major = Select(driver.find_element_by_id('srchOpenUpDeptCd')) #학과 콤보박스\n",
    "    #Major.select_by_value('250') #경영대학 선택\n",
    "\n",
    "    driver.find_element_by_css_selector('#cond00 > a.btn_search_ok').click()\n",
    "    \n",
    "    driver.implicitly_wait(time_to_wait=5) #암묵적으로 웹 로딩을 기다려주는 메소드"
   ]
  },
  {
   "cell_type": "markdown",
   "metadata": {
    "id": "DUoeQ659hzmS"
   },
   "source": [
    " - 검색 결과 수집 함수 (페이지 넘기기 처리)"
   ]
  },
  {
   "cell_type": "code",
   "execution_count": null,
   "metadata": {
    "id": "LFazqfhQhk3V"
   },
   "outputs": [],
   "source": [
    "def fn_sugang(driver):\n",
    "\n",
    "    sugang_len = driver.find_element_by_class_name('fc_o').text #검색건수 가져오기\n",
    "    pages = (int(sugang_len)//10) + 1 #페이지 수 (한 페이지당 10건씩)\n",
    "    next_pages = pages//10 #페이지바 넘기는 횟수\n",
    "    \n",
    "    #column = ['교과구분', '개설대학', '개설학과', '학년', '교과목번호', '강좌번호', '교과목명(부제명)', '학점-강의-실습', '수업교시', '수업형태', '강의실(동-호)', '주담당교수', '강의계획서', '정원', '수강신청인원']\n",
    "    \n",
    "    global sugang_list\n",
    "    \n",
    "    if pages <= 10: \n",
    "        try:\n",
    "            sugang_list =[]\n",
    "            for page in range(1,11):\n",
    "                driver.find_element_by_xpath('//*[@id=\"content\"]/div/div[3]/div[2]/span/a[%s]'%page).click()      \n",
    "                time.sleep(2)\n",
    "\n",
    "                table = driver.find_element_by_class_name('tbl_basic')\n",
    "                tbody = table.find_element_by_tag_name('tbody')\n",
    "                tr = tbody.find_elements_by_tag_name('tr')\n",
    "                \n",
    "                for row in tr:\n",
    "                    print(row.text.split(\"\\n\"))\n",
    "        \n",
    "        except:\n",
    "            print('done')\n",
    "        \n",
    "    else:\n",
    "        \n",
    "        i=0\n",
    "        while i <= next_pages: \n",
    "            i += 1\n",
    "            \n",
    "            try:\n",
    "                sugang_list =[]\n",
    "                for page in range(1,11):\n",
    "                    driver.find_element_by_xpath('//*[@id=\"content\"]/div/div[3]/div[2]/span/a[%s]'%page).click()      \n",
    "                    time.sleep(2)\n",
    "\n",
    "                    table = driver.find_element_by_class_name('tbl_basic')\n",
    "                    tbody = table.find_element_by_tag_name('tbody')\n",
    "                    tr = tbody.find_elements_by_tag_name('tr')\n",
    "\n",
    "                    for row in tr:\n",
    "                        print(row.text.split(\"\\n\"))\n",
    "                        \n",
    "                driver.find_element_by_xpath('//*[@id=\"content\"]/div/div[3]/div[2]/a[3]').click()\n",
    "                time.sleep(2)\n",
    "            \n",
    "            except:\n",
    "                print('done')"
   ]
  },
  {
   "cell_type": "markdown",
   "metadata": {
    "id": "UBG58-dfiRvD"
   },
   "source": [
    "## ❐ **브라우저에서 크롤링 실행하기**"
   ]
  },
  {
   "cell_type": "code",
   "execution_count": null,
   "metadata": {
    "id": "M0QIhbg7chNn"
   },
   "outputs": [],
   "source": [
    "chrome_options = webdriver.ChromeOptions()\n",
    "#chrome_options.add_argument('headless') #background에서 수행하고자 할 때 사용\n",
    "\n",
    "driver = webdriver.Chrome(executable_path=\"/Users/jinsol/Desktop/chromedriver\",chrome_options=chrome_options) #크롬드라이버 경로 설정\n",
    "\n",
    "# 로그인에 필요한 계정정보\n",
    "id_ = getpass.getpass(\"아이디를 입력하시오. : \") #getpass를 통해 개인정보를 숨길 수 있음\n",
    "pw_ = getpass.getpass(\"패스워드를 입력하시오. : \") \n",
    "\n",
    "login_url = \"https://my.snu.ac.kr/\" #로그인 페이지\n",
    "driver.get(login_url) # 주소입력하고 enter하는 동작\n",
    "\n",
    "driver.switch_to_frame('mainFrame')\n",
    "\n",
    "fn_loginPage(driver, id_, pw_)  # 로그인\n",
    "\n",
    "driver.find_element_by_xpath('//*[@id=\"header\"]/div[2]/div[1]/ul/li[1]/a').click()\n",
    "\n",
    "driver.switch_to.window(driver.window_handles[1])\n",
    "driver.implicitly_wait(time_to_wait=5)\n",
    "\n",
    "driver.find_element_by_xpath('//*[@id=\"pgm_container\"]/h3[3]').click() #수업/성적 탭\n",
    "driver.find_element_by_xpath('//*[@id=\"S0302\"]').click() #교과목 탭\n",
    "driver.find_element_by_xpath('//*[@id=\"S030201\"]').click() #수강편람 탭\n",
    "\n",
    "time.sleep(5)\n",
    "driver.switch_to.window(driver.window_handles[2])\n",
    "\n",
    "fn_search(driver) #검색\n",
    "\n",
    "fn_sugang(driver) #검색 결과 가져오기\n",
    "\n",
    "driver.quit()"
   ]
  }
 ],
 "metadata": {
  "colab": {
   "name": "SNUportal_crawler.ipynb",
   "provenance": []
  },
  "kernelspec": {
   "display_name": "Python 3",
   "language": "python",
   "name": "python3"
  },
  "language_info": {
   "codemirror_mode": {
    "name": "ipython",
    "version": 3
   },
   "file_extension": ".py",
   "mimetype": "text/x-python",
   "name": "python",
   "nbconvert_exporter": "python",
   "pygments_lexer": "ipython3",
   "version": "3.7.9"
  }
 },
 "nbformat": 4,
 "nbformat_minor": 1
}
